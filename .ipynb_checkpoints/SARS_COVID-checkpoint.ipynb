{
 "cells": [
  {
   "cell_type": "markdown",
   "id": "ad8842c5",
   "metadata": {},
   "source": [
    "# SARS COVID 19\n",
    "\n"
   ]
  },
  {
   "cell_type": "markdown",
   "id": "efdecb5b",
   "metadata": {},
   "source": [
    "## Data Preprocessing"
   ]
  },
  {
   "cell_type": "code",
   "execution_count": 7,
   "id": "8410d2e0",
   "metadata": {},
   "outputs": [
    {
     "ename": "ERROR",
     "evalue": "Error in library(e1071): there is no package called ‘e1071’\n",
     "output_type": "error",
     "traceback": [
      "Error in library(e1071): there is no package called ‘e1071’\nTraceback:\n",
      "1. library(e1071)"
     ]
    }
   ],
   "source": [
    "# Import all packages\n",
    "\n",
    "library(ggplot2)\n",
    "library(e1071)\n",
    "library(kernlab)\n",
    "library(hydroGOF)\n",
    "library(caret)\n",
    "library(Metrics)\n",
    "library(glmnet)\n",
    "library(pcr)\n",
    "library(randomForest)\n",
    "library(pls)\n",
    "library(class)\n",
    "library(superml)\n",
    "library(rpart)\n",
    "library(Metrics)\n",
    "library(performanceEstimation)\n"
   ]
  },
  {
   "cell_type": "code",
   "execution_count": 5,
   "id": "aee4a956",
   "metadata": {},
   "outputs": [
    {
     "name": "stderr",
     "output_type": "stream",
     "text": [
      "also installing the dependencies ‘BBmisc’, ‘checkmate’, ‘parallelMap’\n",
      "\n",
      "Warning message in install.packages(\"performanceEstimation\"):\n",
      "“installation of package ‘checkmate’ had non-zero exit status”Warning message in install.packages(\"performanceEstimation\"):\n",
      "“installation of package ‘BBmisc’ had non-zero exit status”Warning message in install.packages(\"performanceEstimation\"):\n",
      "“installation of package ‘parallelMap’ had non-zero exit status”Warning message in install.packages(\"performanceEstimation\"):\n",
      "“installation of package ‘performanceEstimation’ had non-zero exit status”Updating HTML index of packages in '.Library'\n",
      "Making 'packages.html' ... done\n"
     ]
    }
   ],
   "source": [
    "install.packages(\"performanceEstimation\")"
   ]
  }
 ],
 "metadata": {
  "kernelspec": {
   "display_name": "R",
   "language": "R",
   "name": "ir"
  },
  "language_info": {
   "codemirror_mode": "r",
   "file_extension": ".r",
   "mimetype": "text/x-r-source",
   "name": "R",
   "pygments_lexer": "r",
   "version": "3.6.1"
  }
 },
 "nbformat": 4,
 "nbformat_minor": 5
}
